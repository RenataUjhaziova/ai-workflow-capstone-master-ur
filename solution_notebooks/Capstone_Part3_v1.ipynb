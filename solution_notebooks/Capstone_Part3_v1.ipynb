{
 "cells": [
  {
   "cell_type": "markdown",
   "metadata": {},
   "source": [
    "# Capstone Part 3: Getting Started (hands-on)"
   ]
  },
  {
   "cell_type": "markdown",
   "metadata": {},
   "source": [
    "### Tasks\n",
    "\n",
    "    1. Build a draft version of an API with train, predict, and logfile endpoints.\n",
    "    2. Using Docker, bundle your API, model, and unit tests.\n",
    "    3. Using test-driven development iterate on your API in a way that anticipates scale, load, and drift.\n",
    "    4. Create a post-production analysis script that investigates the relationship between model performance and the business metric.\n",
    "    5. Articulate your summarized findings in a final report."
   ]
  },
  {
   "cell_type": "markdown",
   "metadata": {},
   "source": [
    "## Getting started"
   ]
  },
  {
   "cell_type": "markdown",
   "metadata": {},
   "source": [
    "There are three tasks in the pieces to the final part of the case study.\n",
    "\n",
    "    1. Ready your model for deployment\n",
    "    2. Query your API with new data and test your monitoring tools\n",
    "    3. Compare your results to the gold standard\n",
    "\n",
    "#### Note: \n",
    "In reality your model would re-train itself at some cadence (e.g. nightly or weekly). If your systems is capable of this you should demonstrate this capacity as part of the deliverable. This is not a requirement of the model for this assignment, but it is an important aspect of model deployment to keep in mind.\n",
    "\n",
    "You will need to access the following link to download the files for completing this assignment prior to continuing. Please refer to Part 3 of the Readme for additional information/instructions:\n",
    "https://github.com/aavail/ai-workflow-capstone"
   ]
  },
  {
   "cell_type": "markdown",
   "metadata": {},
   "source": [
    "    To ready your model for deployment you will be required to prepare you model in a way that the Flask API can both train and predict. There are some differences when you compare this model to most of those we have discussed throughout this specialization. When it comes to training one solution is that the model train script simply uses all files in a given directory. This way you could set your model up to be re-trained at regular intervals with little overhead.\n",
    "\n",
    "    Prediction in the case of this model requires a little more thought. You are not simply passing a query corresponding to a row in a feature matrix, because this business opportunity requires that the API takes a country name and a date. There are many ways to accommodate these requirements. You model may simply save the forecasts for a range of dates, then the 'predict' function serves to looks up the specified 30 day revenue prediction. You model could also transform the target date into an appropriate input vector that is then used as input for a trained model.\n",
    "\n",
    "    You might be tempted to setup the predict function to work only with the latest date, which would be appropriate in some circumstances, but in this case we are building a tool to fit the specific needs of individuals. Some people in leadership at AAVAIL make projections at the end of the month and others do this on the 15th so the predict function needs to work for all of the end users.\n",
    "\n",
    "    In the case of this project you can safely assume that there are only a few individuals that will be active users of the model so it may not be worth the effort to optimize for speed when it comes to prediction or training. The important thing is to arrive at a working solution.\n",
    "\n",
    "    Once all of your tests pass and your model is being served via Docker you will need to query the API. One suggestion for this part is to use a script to simulate the process. You may want to start with fresh log files and then for every new day make a prediction with the consideration that you have not yet seen the rest of the future data. To may the process more realistic you could 're-train' your model say every week or nightly. At a minimum you should have predictions for each day when you are finished and you should compare them to the known values.\n",
    "\n",
    "    To monitor performance there are several plots that could be made. The time-series plot where X are the day intervals and Y is the 30 day revenue (projected and known) can be particularly useful here. Because we obtain labels for y the performance of your model can be monitored by comparing predicted and known values."
   ]
  },
  {
   "cell_type": "code",
   "execution_count": 1,
   "metadata": {},
   "outputs": [],
   "source": [
    "import os\n",
    "import re\n",
    "import numpy as np\n",
    "import pandas as pd\n",
    "import scipy.stats as stats\n",
    "import statsmodels as sm\n",
    "\n",
    "from statsmodels.tsa.stattools import adfuller\n",
    "\n",
    "import sklearn.metrics as sm\n",
    "from xgboost import XGBRegressor\n",
    "from sklearn.linear_model import Ridge\n",
    "from sklearn.linear_model import Lasso\n",
    "\n",
    "from sklearn.model_selection import ShuffleSplit\n",
    "from sklearn.model_selection import learning_curve\n",
    "\n",
    "import matplotlib.pyplot as plt\n",
    "import seaborn as sns\n",
    "plt.style.use('seaborn')\n",
    "\n",
    "\n",
    "%matplotlib inline\n",
    "\n",
    "SMALL_SIZE = 8\n",
    "MEDIUM_SIZE = 10\n",
    "LARGE_SIZE = 12\n",
    "\n",
    "plt.rc('font', size=SMALL_SIZE)          # controls default text sizes\n",
    "plt.rc('axes', titlesize=LARGE_SIZE)     # fontsize of the axes title\n",
    "plt.rc('axes', labelsize=LARGE_SIZE)    # fontsize of the x and y labels\n",
    "plt.rc('xtick', labelsize=LARGE_SIZE)    # fontsize of the tick labels\n",
    "plt.rc('ytick', labelsize=LARGE_SIZE)    # fontsize of the tick labels\n",
    "plt.rc('legend', fontsize=MEDIUM_SIZE)    # legend fontsize\n",
    "plt.rc('figure', titlesize=LARGE_SIZE)   # fontsize of the figure title"
   ]
  },
  {
   "cell_type": "code",
   "execution_count": 2,
   "metadata": {},
   "outputs": [],
   "source": [
    "from logger import *\n",
    "from data_ingestion_lib import *\n",
    "from model import *"
   ]
  },
  {
   "cell_type": "markdown",
   "metadata": {},
   "source": [
    "## 1. Load data"
   ]
  },
  {
   "cell_type": "markdown",
   "metadata": {},
   "source": [
    "From the original DataFrame (fetch_data()) return a numerically indexed time-series DataFrame by aggregating over each day."
   ]
  },
  {
   "cell_type": "code",
   "execution_count": 3,
   "metadata": {},
   "outputs": [
    {
     "data": {
      "text/plain": [
       "'C:\\\\Users\\\\RenataUjhaziova\\\\Coursera_AI_Workflow\\\\CapstoneProject\\\\ai-workflow-capstone-master\\\\solution_notebooks'"
      ]
     },
     "execution_count": 3,
     "metadata": {},
     "output_type": "execute_result"
    }
   ],
   "source": [
    "pwd"
   ]
  },
  {
   "cell_type": "code",
   "execution_count": 4,
   "metadata": {},
   "outputs": [],
   "source": [
    "data_dir_train = '../cs-train/'"
   ]
  },
  {
   "cell_type": "code",
   "execution_count": 5,
   "metadata": {},
   "outputs": [
    {
     "name": "stdout",
     "output_type": "stream",
     "text": [
      "... loading ts data from files\n"
     ]
    },
    {
     "data": {
      "text/plain": [
       "{'all':            date  purchases  unique_invoices  unique_streams  total_views  \\\n",
       " 0    2017-11-01          0                0               0            0   \n",
       " 1    2017-11-02          0                0               0            0   \n",
       " 2    2017-11-03          0                0               0            0   \n",
       " 3    2017-11-04          0                0               0            0   \n",
       " 4    2017-11-05          0                0               0            0   \n",
       " ..          ...        ...              ...             ...          ...   \n",
       " 602  2019-06-26       1358               67             999         6420   \n",
       " 603  2019-06-27       1620               80             944         9435   \n",
       " 604  2019-06-28       1027               70             607         5539   \n",
       " 605  2019-06-29          0                0               0            0   \n",
       " 606  2019-06-30        602               27             423         2534   \n",
       " \n",
       "     year_month  revenue  \n",
       " 0      2017-11     0.00  \n",
       " 1      2017-11     0.00  \n",
       " 2      2017-11     0.00  \n",
       " 3      2017-11     0.00  \n",
       " 4      2017-11     0.00  \n",
       " ..         ...      ...  \n",
       " 602    2019-06  4903.17  \n",
       " 603    2019-06  5499.38  \n",
       " 604    2019-06  3570.60  \n",
       " 605    2019-06     0.00  \n",
       " 606    2019-06  1793.98  \n",
       " \n",
       " [607 rows x 7 columns],\n",
       " 'eire':            date  purchases  unique_invoices  unique_streams  total_views  \\\n",
       " 0    2017-11-01          0                0               0            0   \n",
       " 1    2017-11-02          0                0               0            0   \n",
       " 2    2017-11-03          0                0               0            0   \n",
       " 3    2017-11-04          0                0               0            0   \n",
       " 4    2017-11-05          0                0               0            0   \n",
       " ..          ...        ...              ...             ...          ...   \n",
       " 602  2019-06-26         80                3              78          709   \n",
       " 603  2019-06-27         30                1              30          237   \n",
       " 604  2019-06-28         55                3              54          440   \n",
       " 605  2019-06-29          0                0               0            0   \n",
       " 606  2019-06-30          0                0               0            0   \n",
       " \n",
       "     year_month  revenue  \n",
       " 0      2017-11     0.00  \n",
       " 1      2017-11     0.00  \n",
       " 2      2017-11     0.00  \n",
       " 3      2017-11     0.00  \n",
       " 4      2017-11     0.00  \n",
       " ..         ...      ...  \n",
       " 602    2019-06   253.67  \n",
       " 603    2019-06    92.16  \n",
       " 604    2019-06   295.21  \n",
       " 605    2019-06     0.00  \n",
       " 606    2019-06     0.00  \n",
       " \n",
       " [607 rows x 7 columns],\n",
       " 'france':            date  purchases  unique_invoices  unique_streams  total_views  \\\n",
       " 0    2017-11-01          0                0               0            0   \n",
       " 1    2017-11-02          0                0               0            0   \n",
       " 2    2017-11-03          0                0               0            0   \n",
       " 3    2017-11-04          0                0               0            0   \n",
       " 4    2017-11-05          0                0               0            0   \n",
       " ..          ...        ...              ...             ...          ...   \n",
       " 602  2019-06-26          0                0               0            0   \n",
       " 603  2019-06-27          1                1               1            4   \n",
       " 604  2019-06-28         26                2              25          252   \n",
       " 605  2019-06-29          0                0               0            0   \n",
       " 606  2019-06-30          0                0               0            0   \n",
       " \n",
       "     year_month  revenue  \n",
       " 0      2017-11     0.00  \n",
       " 1      2017-11     0.00  \n",
       " 2      2017-11     0.00  \n",
       " 3      2017-11     0.00  \n",
       " 4      2017-11     0.00  \n",
       " ..         ...      ...  \n",
       " 602    2019-06     0.00  \n",
       " 603    2019-06     1.25  \n",
       " 604    2019-06    79.75  \n",
       " 605    2019-06     0.00  \n",
       " 606    2019-06     0.00  \n",
       " \n",
       " [607 rows x 7 columns],\n",
       " 'germany':            date  purchases  unique_invoices  unique_streams  total_views  \\\n",
       " 0    2017-11-01          0                0               0            0   \n",
       " 1    2017-11-02          0                0               0            0   \n",
       " 2    2017-11-03          0                0               0            0   \n",
       " 3    2017-11-04          0                0               0            0   \n",
       " 4    2017-11-05          0                0               0            0   \n",
       " ..          ...        ...              ...             ...          ...   \n",
       " 602  2019-06-26          0                0               0            0   \n",
       " 603  2019-06-27         62                3              59          614   \n",
       " 604  2019-06-28         10                2              10           52   \n",
       " 605  2019-06-29          0                0               0            0   \n",
       " 606  2019-06-30          0                0               0            0   \n",
       " \n",
       "     year_month  revenue  \n",
       " 0      2017-11     0.00  \n",
       " 1      2017-11     0.00  \n",
       " 2      2017-11     0.00  \n",
       " 3      2017-11     0.00  \n",
       " 4      2017-11     0.00  \n",
       " ..         ...      ...  \n",
       " 602    2019-06     0.00  \n",
       " 603    2019-06   159.78  \n",
       " 604    2019-06    51.89  \n",
       " 605    2019-06     0.00  \n",
       " 606    2019-06     0.00  \n",
       " \n",
       " [607 rows x 7 columns],\n",
       " 'hong_kong':            date  purchases  unique_invoices  unique_streams  total_views  \\\n",
       " 0    2018-04-01          0                0               0            0   \n",
       " 1    2018-04-02          0                0               0            0   \n",
       " 2    2018-04-03          0                0               0            0   \n",
       " 3    2018-04-04          0                0               0            0   \n",
       " 4    2018-04-05          0                0               0            0   \n",
       " ..          ...        ...              ...             ...          ...   \n",
       " 421  2019-05-27          0                0               0            0   \n",
       " 422  2019-05-28          0                0               0            0   \n",
       " 423  2019-05-29          0                0               0            0   \n",
       " 424  2019-05-30          0                0               0            0   \n",
       " 425  2019-05-31          0                0               0            0   \n",
       " \n",
       "     year_month  revenue  \n",
       " 0      2018-04      0.0  \n",
       " 1      2018-04      0.0  \n",
       " 2      2018-04      0.0  \n",
       " 3      2018-04      0.0  \n",
       " 4      2018-04      0.0  \n",
       " ..         ...      ...  \n",
       " 421    2019-05      0.0  \n",
       " 422    2019-05      0.0  \n",
       " 423    2019-05      0.0  \n",
       " 424    2019-05      0.0  \n",
       " 425    2019-05      0.0  \n",
       " \n",
       " [426 rows x 7 columns],\n",
       " 'netherlands':            date  purchases  unique_invoices  unique_streams  total_views  \\\n",
       " 0    2017-11-01          0                0               0            0   \n",
       " 1    2017-11-02          0                0               0            0   \n",
       " 2    2017-11-03          0                0               0            0   \n",
       " 3    2017-11-04          0                0               0            0   \n",
       " 4    2017-11-05          0                0               0            0   \n",
       " ..          ...        ...              ...             ...          ...   \n",
       " 602  2019-06-26          0                0               0            0   \n",
       " 603  2019-06-27          0                0               0            0   \n",
       " 604  2019-06-28          0                0               0            0   \n",
       " 605  2019-06-29          0                0               0            0   \n",
       " 606  2019-06-30          0                0               0            0   \n",
       " \n",
       "     year_month  revenue  \n",
       " 0      2017-11      0.0  \n",
       " 1      2017-11      0.0  \n",
       " 2      2017-11      0.0  \n",
       " 3      2017-11      0.0  \n",
       " 4      2017-11      0.0  \n",
       " ..         ...      ...  \n",
       " 602    2019-06      0.0  \n",
       " 603    2019-06      0.0  \n",
       " 604    2019-06      0.0  \n",
       " 605    2019-06      0.0  \n",
       " 606    2019-06      0.0  \n",
       " \n",
       " [607 rows x 7 columns],\n",
       " 'norway':            date  purchases  unique_invoices  unique_streams  total_views  \\\n",
       " 0    2017-12-01          0                0               0            0   \n",
       " 1    2017-12-02          0                0               0            0   \n",
       " 2    2017-12-03          0                0               0            0   \n",
       " 3    2017-12-04         21                1              21          175   \n",
       " 4    2017-12-05          0                0               0            0   \n",
       " ..          ...        ...              ...             ...          ...   \n",
       " 572  2019-06-26          0                0               0            0   \n",
       " 573  2019-06-27          0                0               0            0   \n",
       " 574  2019-06-28          0                0               0            0   \n",
       " 575  2019-06-29          0                0               0            0   \n",
       " 576  2019-06-30          0                0               0            0   \n",
       " \n",
       "     year_month  revenue  \n",
       " 0      2017-12     0.00  \n",
       " 1      2017-12     0.00  \n",
       " 2      2017-12     0.00  \n",
       " 3      2017-12   123.28  \n",
       " 4      2017-12     0.00  \n",
       " ..         ...      ...  \n",
       " 572    2019-06     0.00  \n",
       " 573    2019-06     0.00  \n",
       " 574    2019-06     0.00  \n",
       " 575    2019-06     0.00  \n",
       " 576    2019-06     0.00  \n",
       " \n",
       " [577 rows x 7 columns],\n",
       " 'portugal':            date  purchases  unique_invoices  unique_streams  total_views  \\\n",
       " 0    2017-11-01          0                0               0            0   \n",
       " 1    2017-11-02          0                0               0            0   \n",
       " 2    2017-11-03          0                0               0            0   \n",
       " 3    2017-11-04          0                0               0            0   \n",
       " 4    2017-11-05          0                0               0            0   \n",
       " ..          ...        ...              ...             ...          ...   \n",
       " 602  2019-06-26          0                0               0            0   \n",
       " 603  2019-06-27          0                0               0            0   \n",
       " 604  2019-06-28          0                0               0            0   \n",
       " 605  2019-06-29          0                0               0            0   \n",
       " 606  2019-06-30          0                0               0            0   \n",
       " \n",
       "     year_month  revenue  \n",
       " 0      2017-11      0.0  \n",
       " 1      2017-11      0.0  \n",
       " 2      2017-11      0.0  \n",
       " 3      2017-11      0.0  \n",
       " 4      2017-11      0.0  \n",
       " ..         ...      ...  \n",
       " 602    2019-06      0.0  \n",
       " 603    2019-06      0.0  \n",
       " 604    2019-06      0.0  \n",
       " 605    2019-06      0.0  \n",
       " 606    2019-06      0.0  \n",
       " \n",
       " [607 rows x 7 columns],\n",
       " 'singapore':            date  purchases  unique_invoices  unique_streams  total_views  \\\n",
       " 0    2018-04-01          0                0               0            0   \n",
       " 1    2018-04-02          0                0               0            0   \n",
       " 2    2018-04-03          0                0               0            0   \n",
       " 3    2018-04-04          0                0               0            0   \n",
       " 4    2018-04-05          0                0               0            0   \n",
       " ..          ...        ...              ...             ...          ...   \n",
       " 451  2019-06-26          0                0               0            0   \n",
       " 452  2019-06-27          0                0               0            0   \n",
       " 453  2019-06-28          0                0               0            0   \n",
       " 454  2019-06-29          0                0               0            0   \n",
       " 455  2019-06-30          0                0               0            0   \n",
       " \n",
       "     year_month  revenue  \n",
       " 0      2018-04      0.0  \n",
       " 1      2018-04      0.0  \n",
       " 2      2018-04      0.0  \n",
       " 3      2018-04      0.0  \n",
       " 4      2018-04      0.0  \n",
       " ..         ...      ...  \n",
       " 451    2019-06      0.0  \n",
       " 452    2019-06      0.0  \n",
       " 453    2019-06      0.0  \n",
       " 454    2019-06      0.0  \n",
       " 455    2019-06      0.0  \n",
       " \n",
       " [456 rows x 7 columns],\n",
       " 'spain':            date  purchases  unique_invoices  unique_streams  total_views  \\\n",
       " 0    2017-11-01          0                0               0            0   \n",
       " 1    2017-11-02          0                0               0            0   \n",
       " 2    2017-11-03          0                0               0            0   \n",
       " 3    2017-11-04          0                0               0            0   \n",
       " 4    2017-11-05          0                0               0            0   \n",
       " ..          ...        ...              ...             ...          ...   \n",
       " 602  2019-06-26          0                0               0            0   \n",
       " 603  2019-06-27          0                0               0            0   \n",
       " 604  2019-06-28          0                0               0            0   \n",
       " 605  2019-06-29          0                0               0            0   \n",
       " 606  2019-06-30          0                0               0            0   \n",
       " \n",
       "     year_month  revenue  \n",
       " 0      2017-11      0.0  \n",
       " 1      2017-11      0.0  \n",
       " 2      2017-11      0.0  \n",
       " 3      2017-11      0.0  \n",
       " 4      2017-11      0.0  \n",
       " ..         ...      ...  \n",
       " 602    2019-06      0.0  \n",
       " 603    2019-06      0.0  \n",
       " 604    2019-06      0.0  \n",
       " 605    2019-06      0.0  \n",
       " 606    2019-06      0.0  \n",
       " \n",
       " [607 rows x 7 columns],\n",
       " 'united_kingdom':            date  purchases  unique_invoices  unique_streams  total_views  \\\n",
       " 0    2017-11-01          0                0               0            0   \n",
       " 1    2017-11-02          0                0               0            0   \n",
       " 2    2017-11-03          0                0               0            0   \n",
       " 3    2017-11-04          0                0               0            0   \n",
       " 4    2017-11-05          0                0               0            0   \n",
       " ..          ...        ...              ...             ...          ...   \n",
       " 602  2019-06-26       1274               62             965         5702   \n",
       " 603  2019-06-27       1487               72             897         8230   \n",
       " 604  2019-06-28        923               62             565         4674   \n",
       " 605  2019-06-29          0                0               0            0   \n",
       " 606  2019-06-30        602               27             423         2534   \n",
       " \n",
       "     year_month  revenue  \n",
       " 0      2017-11     0.00  \n",
       " 1      2017-11     0.00  \n",
       " 2      2017-11     0.00  \n",
       " 3      2017-11     0.00  \n",
       " 4      2017-11     0.00  \n",
       " ..         ...      ...  \n",
       " 602    2019-06  4611.00  \n",
       " 603    2019-06  5128.02  \n",
       " 604    2019-06  3096.20  \n",
       " 605    2019-06     0.00  \n",
       " 606    2019-06  1793.98  \n",
       " \n",
       " [607 rows x 7 columns]}"
      ]
     },
     "execution_count": 5,
     "metadata": {},
     "output_type": "execute_result"
    }
   ],
   "source": [
    "## load data\n",
    "ts_data = fetch_ts(data_dir_train)\n",
    "ts_data"
   ]
  },
  {
   "cell_type": "code",
   "execution_count": 6,
   "metadata": {},
   "outputs": [],
   "source": [
    "all_data = {}\n",
    "for country, df in ts_data.items():\n",
    "    X,y,dates = engineer_features(df,training=True)\n",
    "    dates = np.array([str(d) for d in dates])\n",
    "    all_data[country] = {\"X\":X,\"y\":y,\"dates\": dates}"
   ]
  },
  {
   "cell_type": "markdown",
   "metadata": {},
   "source": [
    "### 1.1 Create dataframe for 'all' data "
   ]
  },
  {
   "cell_type": "code",
   "execution_count": 7,
   "metadata": {},
   "outputs": [
    {
     "data": {
      "text/html": [
       "<div>\n",
       "<style scoped>\n",
       "    .dataframe tbody tr th:only-of-type {\n",
       "        vertical-align: middle;\n",
       "    }\n",
       "\n",
       "    .dataframe tbody tr th {\n",
       "        vertical-align: top;\n",
       "    }\n",
       "\n",
       "    .dataframe thead th {\n",
       "        text-align: right;\n",
       "    }\n",
       "</style>\n",
       "<table border=\"1\" class=\"dataframe\">\n",
       "  <thead>\n",
       "    <tr style=\"text-align: right;\">\n",
       "      <th></th>\n",
       "      <th>previous_7</th>\n",
       "      <th>previous_14</th>\n",
       "      <th>previous_28</th>\n",
       "      <th>previous_70</th>\n",
       "      <th>previous_year</th>\n",
       "      <th>recent_invoices</th>\n",
       "      <th>recent_views</th>\n",
       "      <th>y</th>\n",
       "      <th>dates</th>\n",
       "    </tr>\n",
       "  </thead>\n",
       "  <tbody>\n",
       "    <tr>\n",
       "      <th>0</th>\n",
       "      <td>14450.54</td>\n",
       "      <td>14450.54</td>\n",
       "      <td>14450.54</td>\n",
       "      <td>14450.540</td>\n",
       "      <td>0.00</td>\n",
       "      <td>5.928571</td>\n",
       "      <td>537.392857</td>\n",
       "      <td>183857.22</td>\n",
       "      <td>2017-11-29</td>\n",
       "    </tr>\n",
       "    <tr>\n",
       "      <th>1</th>\n",
       "      <td>27862.50</td>\n",
       "      <td>27862.50</td>\n",
       "      <td>27862.50</td>\n",
       "      <td>27862.500</td>\n",
       "      <td>0.00</td>\n",
       "      <td>10.310345</td>\n",
       "      <td>1007.103448</td>\n",
       "      <td>170445.26</td>\n",
       "      <td>2017-11-30</td>\n",
       "    </tr>\n",
       "    <tr>\n",
       "      <th>2</th>\n",
       "      <td>41152.75</td>\n",
       "      <td>41152.75</td>\n",
       "      <td>41152.75</td>\n",
       "      <td>41152.750</td>\n",
       "      <td>0.00</td>\n",
       "      <td>14.966667</td>\n",
       "      <td>1499.066667</td>\n",
       "      <td>157155.01</td>\n",
       "      <td>2017-12-01</td>\n",
       "    </tr>\n",
       "    <tr>\n",
       "      <th>3</th>\n",
       "      <td>50840.03</td>\n",
       "      <td>50840.03</td>\n",
       "      <td>50840.03</td>\n",
       "      <td>50840.030</td>\n",
       "      <td>0.00</td>\n",
       "      <td>18.533333</td>\n",
       "      <td>1916.533333</td>\n",
       "      <td>147467.73</td>\n",
       "      <td>2017-12-02</td>\n",
       "    </tr>\n",
       "    <tr>\n",
       "      <th>4</th>\n",
       "      <td>52283.29</td>\n",
       "      <td>52283.29</td>\n",
       "      <td>52283.29</td>\n",
       "      <td>52283.290</td>\n",
       "      <td>0.00</td>\n",
       "      <td>19.600000</td>\n",
       "      <td>2026.966667</td>\n",
       "      <td>147991.02</td>\n",
       "      <td>2017-12-03</td>\n",
       "    </tr>\n",
       "    <tr>\n",
       "      <th>...</th>\n",
       "      <td>...</td>\n",
       "      <td>...</td>\n",
       "      <td>...</td>\n",
       "      <td>...</td>\n",
       "      <td>...</td>\n",
       "      <td>...</td>\n",
       "      <td>...</td>\n",
       "      <td>...</td>\n",
       "      <td>...</td>\n",
       "    </tr>\n",
       "    <tr>\n",
       "      <th>544</th>\n",
       "      <td>35654.01</td>\n",
       "      <td>88316.24</td>\n",
       "      <td>184306.67</td>\n",
       "      <td>378375.021</td>\n",
       "      <td>223505.56</td>\n",
       "      <td>70.000000</td>\n",
       "      <td>6702.533333</td>\n",
       "      <td>195395.17</td>\n",
       "      <td>2019-05-27</td>\n",
       "    </tr>\n",
       "    <tr>\n",
       "      <th>545</th>\n",
       "      <td>23045.09</td>\n",
       "      <td>67418.62</td>\n",
       "      <td>184306.67</td>\n",
       "      <td>375436.261</td>\n",
       "      <td>227317.94</td>\n",
       "      <td>70.000000</td>\n",
       "      <td>6702.533333</td>\n",
       "      <td>200298.34</td>\n",
       "      <td>2019-05-28</td>\n",
       "    </tr>\n",
       "    <tr>\n",
       "      <th>546</th>\n",
       "      <td>20834.33</td>\n",
       "      <td>62382.30</td>\n",
       "      <td>160811.46</td>\n",
       "      <td>370127.071</td>\n",
       "      <td>234869.69</td>\n",
       "      <td>71.366667</td>\n",
       "      <td>6839.200000</td>\n",
       "      <td>200717.34</td>\n",
       "      <td>2019-05-29</td>\n",
       "    </tr>\n",
       "    <tr>\n",
       "      <th>547</th>\n",
       "      <td>22111.84</td>\n",
       "      <td>62893.44</td>\n",
       "      <td>163049.25</td>\n",
       "      <td>371180.251</td>\n",
       "      <td>237016.78</td>\n",
       "      <td>73.533333</td>\n",
       "      <td>7026.733333</td>\n",
       "      <td>198456.74</td>\n",
       "      <td>2019-05-30</td>\n",
       "    </tr>\n",
       "    <tr>\n",
       "      <th>548</th>\n",
       "      <td>24896.97</td>\n",
       "      <td>62197.61</td>\n",
       "      <td>163867.77</td>\n",
       "      <td>373557.381</td>\n",
       "      <td>236716.83</td>\n",
       "      <td>72.200000</td>\n",
       "      <td>7039.966667</td>\n",
       "      <td>191391.68</td>\n",
       "      <td>2019-05-31</td>\n",
       "    </tr>\n",
       "  </tbody>\n",
       "</table>\n",
       "<p>549 rows × 9 columns</p>\n",
       "</div>"
      ],
      "text/plain": [
       "     previous_7  previous_14  previous_28  previous_70  previous_year  \\\n",
       "0      14450.54     14450.54     14450.54    14450.540           0.00   \n",
       "1      27862.50     27862.50     27862.50    27862.500           0.00   \n",
       "2      41152.75     41152.75     41152.75    41152.750           0.00   \n",
       "3      50840.03     50840.03     50840.03    50840.030           0.00   \n",
       "4      52283.29     52283.29     52283.29    52283.290           0.00   \n",
       "..          ...          ...          ...          ...            ...   \n",
       "544    35654.01     88316.24    184306.67   378375.021      223505.56   \n",
       "545    23045.09     67418.62    184306.67   375436.261      227317.94   \n",
       "546    20834.33     62382.30    160811.46   370127.071      234869.69   \n",
       "547    22111.84     62893.44    163049.25   371180.251      237016.78   \n",
       "548    24896.97     62197.61    163867.77   373557.381      236716.83   \n",
       "\n",
       "     recent_invoices  recent_views          y       dates  \n",
       "0           5.928571    537.392857  183857.22  2017-11-29  \n",
       "1          10.310345   1007.103448  170445.26  2017-11-30  \n",
       "2          14.966667   1499.066667  157155.01  2017-12-01  \n",
       "3          18.533333   1916.533333  147467.73  2017-12-02  \n",
       "4          19.600000   2026.966667  147991.02  2017-12-03  \n",
       "..               ...           ...        ...         ...  \n",
       "544        70.000000   6702.533333  195395.17  2019-05-27  \n",
       "545        70.000000   6702.533333  200298.34  2019-05-28  \n",
       "546        71.366667   6839.200000  200717.34  2019-05-29  \n",
       "547        73.533333   7026.733333  198456.74  2019-05-30  \n",
       "548        72.200000   7039.966667  191391.68  2019-05-31  \n",
       "\n",
       "[549 rows x 9 columns]"
      ]
     },
     "execution_count": 7,
     "metadata": {},
     "output_type": "execute_result"
    }
   ],
   "source": [
    "df_all = all_data['all']['X']\n",
    "df_all['y'] = all_data['all']['y']\n",
    "df_all['dates'] = all_data['all']['dates']\n",
    "df_all"
   ]
  },
  {
   "cell_type": "markdown",
   "metadata": {},
   "source": [
    "### 1.2 Create dataframe for 'united kingdom' data "
   ]
  },
  {
   "cell_type": "code",
   "execution_count": 8,
   "metadata": {},
   "outputs": [
    {
     "data": {
      "text/html": [
       "<div>\n",
       "<style scoped>\n",
       "    .dataframe tbody tr th:only-of-type {\n",
       "        vertical-align: middle;\n",
       "    }\n",
       "\n",
       "    .dataframe tbody tr th {\n",
       "        vertical-align: top;\n",
       "    }\n",
       "\n",
       "    .dataframe thead th {\n",
       "        text-align: right;\n",
       "    }\n",
       "</style>\n",
       "<table border=\"1\" class=\"dataframe\">\n",
       "  <thead>\n",
       "    <tr style=\"text-align: right;\">\n",
       "      <th></th>\n",
       "      <th>previous_7</th>\n",
       "      <th>previous_14</th>\n",
       "      <th>previous_28</th>\n",
       "      <th>previous_70</th>\n",
       "      <th>previous_year</th>\n",
       "      <th>recent_invoices</th>\n",
       "      <th>recent_views</th>\n",
       "      <th>y</th>\n",
       "      <th>dates</th>\n",
       "    </tr>\n",
       "  </thead>\n",
       "  <tbody>\n",
       "    <tr>\n",
       "      <th>0</th>\n",
       "      <td>13281.12</td>\n",
       "      <td>13281.12</td>\n",
       "      <td>13281.12</td>\n",
       "      <td>13281.120</td>\n",
       "      <td>0.00</td>\n",
       "      <td>5.500000</td>\n",
       "      <td>461.500000</td>\n",
       "      <td>173959.95</td>\n",
       "      <td>2017-11-29</td>\n",
       "    </tr>\n",
       "    <tr>\n",
       "      <th>1</th>\n",
       "      <td>26504.09</td>\n",
       "      <td>26504.09</td>\n",
       "      <td>26504.09</td>\n",
       "      <td>26504.090</td>\n",
       "      <td>0.00</td>\n",
       "      <td>9.620690</td>\n",
       "      <td>916.275862</td>\n",
       "      <td>160736.98</td>\n",
       "      <td>2017-11-30</td>\n",
       "    </tr>\n",
       "    <tr>\n",
       "      <th>2</th>\n",
       "      <td>39445.59</td>\n",
       "      <td>39445.59</td>\n",
       "      <td>39445.59</td>\n",
       "      <td>39445.590</td>\n",
       "      <td>0.00</td>\n",
       "      <td>14.100000</td>\n",
       "      <td>1393.833333</td>\n",
       "      <td>147795.48</td>\n",
       "      <td>2017-12-01</td>\n",
       "    </tr>\n",
       "    <tr>\n",
       "      <th>3</th>\n",
       "      <td>48608.66</td>\n",
       "      <td>48608.66</td>\n",
       "      <td>48608.66</td>\n",
       "      <td>48608.660</td>\n",
       "      <td>0.00</td>\n",
       "      <td>17.433333</td>\n",
       "      <td>1782.233333</td>\n",
       "      <td>138632.41</td>\n",
       "      <td>2017-12-02</td>\n",
       "    </tr>\n",
       "    <tr>\n",
       "      <th>4</th>\n",
       "      <td>49871.94</td>\n",
       "      <td>49871.94</td>\n",
       "      <td>49871.94</td>\n",
       "      <td>49871.940</td>\n",
       "      <td>0.00</td>\n",
       "      <td>18.466667</td>\n",
       "      <td>1885.600000</td>\n",
       "      <td>139305.39</td>\n",
       "      <td>2017-12-03</td>\n",
       "    </tr>\n",
       "    <tr>\n",
       "      <th>...</th>\n",
       "      <td>...</td>\n",
       "      <td>...</td>\n",
       "      <td>...</td>\n",
       "      <td>...</td>\n",
       "      <td>...</td>\n",
       "      <td>...</td>\n",
       "      <td>...</td>\n",
       "      <td>...</td>\n",
       "      <td>...</td>\n",
       "    </tr>\n",
       "    <tr>\n",
       "      <th>544</th>\n",
       "      <td>27077.89</td>\n",
       "      <td>75420.91</td>\n",
       "      <td>164870.89</td>\n",
       "      <td>332139.731</td>\n",
       "      <td>214887.55</td>\n",
       "      <td>64.033333</td>\n",
       "      <td>5784.000000</td>\n",
       "      <td>174379.16</td>\n",
       "      <td>2019-05-27</td>\n",
       "    </tr>\n",
       "    <tr>\n",
       "      <th>545</th>\n",
       "      <td>21415.85</td>\n",
       "      <td>55184.21</td>\n",
       "      <td>164870.89</td>\n",
       "      <td>329400.071</td>\n",
       "      <td>217886.64</td>\n",
       "      <td>64.033333</td>\n",
       "      <td>5784.000000</td>\n",
       "      <td>178990.16</td>\n",
       "      <td>2019-05-28</td>\n",
       "    </tr>\n",
       "    <tr>\n",
       "      <th>546</th>\n",
       "      <td>18685.65</td>\n",
       "      <td>50822.41</td>\n",
       "      <td>141209.24</td>\n",
       "      <td>324094.101</td>\n",
       "      <td>224261.42</td>\n",
       "      <td>65.100000</td>\n",
       "      <td>5887.633333</td>\n",
       "      <td>179677.32</td>\n",
       "      <td>2019-05-29</td>\n",
       "    </tr>\n",
       "    <tr>\n",
       "      <th>547</th>\n",
       "      <td>20229.09</td>\n",
       "      <td>51554.17</td>\n",
       "      <td>143412.75</td>\n",
       "      <td>325326.831</td>\n",
       "      <td>225882.00</td>\n",
       "      <td>67.000000</td>\n",
       "      <td>6052.166667</td>\n",
       "      <td>177184.65</td>\n",
       "      <td>2019-05-30</td>\n",
       "    </tr>\n",
       "    <tr>\n",
       "      <th>548</th>\n",
       "      <td>23120.41</td>\n",
       "      <td>51438.64</td>\n",
       "      <td>144263.52</td>\n",
       "      <td>327754.081</td>\n",
       "      <td>224732.64</td>\n",
       "      <td>65.833333</td>\n",
       "      <td>6070.566667</td>\n",
       "      <td>170593.56</td>\n",
       "      <td>2019-05-31</td>\n",
       "    </tr>\n",
       "  </tbody>\n",
       "</table>\n",
       "<p>549 rows × 9 columns</p>\n",
       "</div>"
      ],
      "text/plain": [
       "     previous_7  previous_14  previous_28  previous_70  previous_year  \\\n",
       "0      13281.12     13281.12     13281.12    13281.120           0.00   \n",
       "1      26504.09     26504.09     26504.09    26504.090           0.00   \n",
       "2      39445.59     39445.59     39445.59    39445.590           0.00   \n",
       "3      48608.66     48608.66     48608.66    48608.660           0.00   \n",
       "4      49871.94     49871.94     49871.94    49871.940           0.00   \n",
       "..          ...          ...          ...          ...            ...   \n",
       "544    27077.89     75420.91    164870.89   332139.731      214887.55   \n",
       "545    21415.85     55184.21    164870.89   329400.071      217886.64   \n",
       "546    18685.65     50822.41    141209.24   324094.101      224261.42   \n",
       "547    20229.09     51554.17    143412.75   325326.831      225882.00   \n",
       "548    23120.41     51438.64    144263.52   327754.081      224732.64   \n",
       "\n",
       "     recent_invoices  recent_views          y       dates  \n",
       "0           5.500000    461.500000  173959.95  2017-11-29  \n",
       "1           9.620690    916.275862  160736.98  2017-11-30  \n",
       "2          14.100000   1393.833333  147795.48  2017-12-01  \n",
       "3          17.433333   1782.233333  138632.41  2017-12-02  \n",
       "4          18.466667   1885.600000  139305.39  2017-12-03  \n",
       "..               ...           ...        ...         ...  \n",
       "544        64.033333   5784.000000  174379.16  2019-05-27  \n",
       "545        64.033333   5784.000000  178990.16  2019-05-28  \n",
       "546        65.100000   5887.633333  179677.32  2019-05-29  \n",
       "547        67.000000   6052.166667  177184.65  2019-05-30  \n",
       "548        65.833333   6070.566667  170593.56  2019-05-31  \n",
       "\n",
       "[549 rows x 9 columns]"
      ]
     },
     "execution_count": 8,
     "metadata": {},
     "output_type": "execute_result"
    }
   ],
   "source": [
    "df_uk = all_data['united_kingdom']['X']\n",
    "df_uk['y'] = all_data['united_kingdom']['y']\n",
    "df_uk['dates'] = all_data['united_kingdom']['dates']\n",
    "df_uk"
   ]
  },
  {
   "cell_type": "markdown",
   "metadata": {},
   "source": [
    "## 2. Create different models and compare the results"
   ]
  },
  {
   "cell_type": "markdown",
   "metadata": {},
   "source": [
    "### 2.1 Random forest regression"
   ]
  },
  {
   "cell_type": "code",
   "execution_count": 9,
   "metadata": {},
   "outputs": [],
   "source": [
    "def train_model_rf_reg(X,y):    \n",
    "    ## Perform a train-test split\n",
    "    X_train, X_test, y_train, y_test = train_test_split(X, y, test_size=0.25,\n",
    "                                                        shuffle=True, random_state=42)\n",
    "    ## train a random forest model\n",
    "    param_grid_rf = {\n",
    "    'rf__criterion': ['mse','mae'],\n",
    "    'rf__n_estimators': [10,15,20,25]\n",
    "    }\n",
    "\n",
    "    pipe_rf = Pipeline(steps=[('scaler', StandardScaler()),\n",
    "                              ('rf', RandomForestRegressor())])\n",
    "    \n",
    "    grid = GridSearchCV(pipe_rf, param_grid=param_grid_rf, cv=5, iid=False, n_jobs=-1)\n",
    "    grid.fit(X_train, y_train)\n",
    "    y_pred = grid.predict(X_test)\n",
    "    \n",
    "    # print best parameters\n",
    "    print('Best parameters of the model: ', grid.best_params_)\n",
    "    print('Best score of the model: ', grid.best_score_)\n",
    "    \n",
    "    # print model evaluation results\n",
    "    eval_rmse =  round(np.sqrt(mean_squared_error(y_test,y_pred)))\n",
    "    print('RMSE: ' , eval_rmse)\n",
    "    print('STD: ' , round(np.std(y_pred-y_test),3))    \n",
    "    print(\"Mean absolute error =\", round(sm.mean_absolute_error(y_test, y_pred), 2)) \n",
    "    print(\"Mean squared error =\", round(sm.mean_squared_error(y_test, y_pred), 2)) \n",
    "    print(\"Median absolute error =\", round(sm.median_absolute_error(y_test, y_pred), 2)) \n",
    "    print(\"Explain variance score =\", round(sm.explained_variance_score(y_test, y_pred), 2)) \n",
    "    print(\"R2 score =\", round(sm.r2_score(y_test, y_pred), 2))\n",
    "  \n",
    "    ## retrain using all data\n",
    "    # grid.fit(X, y)"
   ]
  },
  {
   "cell_type": "code",
   "execution_count": 10,
   "metadata": {},
   "outputs": [
    {
     "name": "stdout",
     "output_type": "stream",
     "text": [
      "Best parameters of the model:  {'rf__criterion': 'mse', 'rf__n_estimators': 25}\n",
      "Best score of the model:  0.9127835298064984\n",
      "RMSE:  15658.0\n",
      "STD:  15626.977\n",
      "Mean absolute error = 11318.24\n",
      "Mean squared error = 245157448.67\n",
      "Median absolute error = 7783.81\n",
      "Explain variance score = 0.96\n",
      "R2 score = 0.96\n"
     ]
    }
   ],
   "source": [
    "train_model_rf_reg(X = df_all.drop(columns=['y','dates']),y = df_all['y'])"
   ]
  },
  {
   "cell_type": "code",
   "execution_count": 11,
   "metadata": {},
   "outputs": [
    {
     "name": "stdout",
     "output_type": "stream",
     "text": [
      "Best parameters of the model:  {'rf__criterion': 'mse', 'rf__n_estimators': 25}\n",
      "Best score of the model:  0.9240545491859\n",
      "RMSE:  16993.0\n",
      "STD:  16961.728\n",
      "Mean absolute error = 10918.21\n",
      "Mean squared error = 288751458.79\n",
      "Median absolute error = 5989.75\n",
      "Explain variance score = 0.95\n",
      "R2 score = 0.95\n"
     ]
    }
   ],
   "source": [
    "train_model_rf_reg(X = df_uk.drop(columns=['y','dates']),y = df_uk['y'])"
   ]
  },
  {
   "cell_type": "markdown",
   "metadata": {},
   "source": [
    "### 2.2 XGboost regressor"
   ]
  },
  {
   "cell_type": "code",
   "execution_count": 12,
   "metadata": {},
   "outputs": [],
   "source": [
    "def train_model_xg(X,y):    \n",
    "    ## Perform a train-test split\n",
    "    X_train, X_test, y_train, y_test = train_test_split(X, y, test_size=0.25,\n",
    "                                                        shuffle=True, random_state=42)\n",
    "    \n",
    "    # A parameter grid for XGBoost\n",
    "    param_grid = {'min_child_weight':[4,5], \n",
    "                  'gamma':[i/10.0 for i in range(3,6)],  \n",
    "                  'subsample':[i/10.0 for i in range(6,11)],\n",
    "                  'colsample_bytree':[i/10.0 for i in range(6,11)], \n",
    "                  'max_depth': [2,3,4]}\n",
    "    \n",
    "\n",
    "    # Initialize XGB and GridSearch\n",
    "    xgb = XGBRegressor(nthread=-1) \n",
    "        \n",
    "    grid = GridSearchCV(estimator=xgb, param_grid=param_grid, scoring='r2', verbose=1, n_jobs=-1)\n",
    "    grid.fit(X_train, y_train)\n",
    "    y_pred = grid.predict(X_test)\n",
    "    print('Best Score: ', grid.best_score_)\n",
    "    print('Best Params: ', grid.best_params_)\n",
    "    \n",
    "    # print model evaluation results\n",
    "    eval_rmse =  round(np.sqrt(mean_squared_error(y_test,y_pred)))\n",
    "    print('RMSE: ' , eval_rmse)\n",
    "    print('STD: ' , round(np.std(y_pred-y_test),3))    \n",
    "    print(\"Mean absolute error =\", round(sm.mean_absolute_error(y_test, y_pred), 2)) \n",
    "    print(\"Mean squared error =\", round(sm.mean_squared_error(y_test, y_pred), 2)) \n",
    "    print(\"Median absolute error =\", round(sm.median_absolute_error(y_test, y_pred), 2)) \n",
    "    print(\"Explain variance score =\", round(sm.explained_variance_score(y_test, y_pred), 2)) \n",
    "    print(\"R2 score =\", round(sm.r2_score(y_test, y_pred), 2))\n",
    "  \n",
    "    ## retrain using all data\n",
    "    # grid.fit(X, y)"
   ]
  },
  {
   "cell_type": "code",
   "execution_count": 13,
   "metadata": {},
   "outputs": [
    {
     "name": "stderr",
     "output_type": "stream",
     "text": [
      "C:\\Users\\RenataUjhaziova\\Anaconda3\\lib\\site-packages\\sklearn\\model_selection\\_split.py:1978: FutureWarning: The default value of cv will change from 3 to 5 in version 0.22. Specify it explicitly to silence this warning.\n",
      "  warnings.warn(CV_WARNING, FutureWarning)\n"
     ]
    },
    {
     "name": "stdout",
     "output_type": "stream",
     "text": [
      "Fitting 3 folds for each of 450 candidates, totalling 1350 fits\n"
     ]
    },
    {
     "name": "stderr",
     "output_type": "stream",
     "text": [
      "[Parallel(n_jobs=-1)]: Using backend LokyBackend with 8 concurrent workers.\n",
      "[Parallel(n_jobs=-1)]: Done  34 tasks      | elapsed:    7.3s\n",
      "[Parallel(n_jobs=-1)]: Done 184 tasks      | elapsed:   12.2s\n",
      "[Parallel(n_jobs=-1)]: Done 434 tasks      | elapsed:   20.1s\n",
      "[Parallel(n_jobs=-1)]: Done 784 tasks      | elapsed:   34.8s\n",
      "[Parallel(n_jobs=-1)]: Done 1234 tasks      | elapsed:   54.8s\n",
      "[Parallel(n_jobs=-1)]: Done 1350 out of 1350 | elapsed:   59.4s finished\n",
      "C:\\Users\\RenataUjhaziova\\Anaconda3\\lib\\site-packages\\xgboost\\core.py:587: FutureWarning: Series.base is deprecated and will be removed in a future version\n",
      "  if getattr(data, 'base', None) is not None and \\\n"
     ]
    },
    {
     "name": "stdout",
     "output_type": "stream",
     "text": [
      "[21:57:09] WARNING: C:/Jenkins/workspace/xgboost-win64_release_0.90/src/objective/regression_obj.cu:152: reg:linear is now deprecated in favor of reg:squarederror.\n",
      "Best Score:  0.895079767898833\n",
      "Best Params:  {'colsample_bytree': 0.6, 'gamma': 0.3, 'max_depth': 4, 'min_child_weight': 4, 'subsample': 0.8}\n",
      "RMSE:  20151.0\n",
      "STD:  20111.378\n",
      "Mean absolute error = 15240.88\n",
      "Mean squared error = 406050626.89\n",
      "Median absolute error = 11042.11\n",
      "Explain variance score = 0.94\n",
      "R2 score = 0.94\n"
     ]
    }
   ],
   "source": [
    "train_model_xg(X = df_all.drop(columns=['y','dates']),y = df_all['y'])"
   ]
  },
  {
   "cell_type": "code",
   "execution_count": 14,
   "metadata": {},
   "outputs": [
    {
     "name": "stderr",
     "output_type": "stream",
     "text": [
      "C:\\Users\\RenataUjhaziova\\Anaconda3\\lib\\site-packages\\sklearn\\model_selection\\_split.py:1978: FutureWarning: The default value of cv will change from 3 to 5 in version 0.22. Specify it explicitly to silence this warning.\n",
      "  warnings.warn(CV_WARNING, FutureWarning)\n"
     ]
    },
    {
     "name": "stdout",
     "output_type": "stream",
     "text": [
      "Fitting 3 folds for each of 450 candidates, totalling 1350 fits\n"
     ]
    },
    {
     "name": "stderr",
     "output_type": "stream",
     "text": [
      "[Parallel(n_jobs=-1)]: Using backend LokyBackend with 8 concurrent workers.\n",
      "[Parallel(n_jobs=-1)]: Done  34 tasks      | elapsed:   11.2s\n",
      "[Parallel(n_jobs=-1)]: Done 184 tasks      | elapsed:   17.2s\n",
      "[Parallel(n_jobs=-1)]: Done 434 tasks      | elapsed:   26.2s\n",
      "[Parallel(n_jobs=-1)]: Done 784 tasks      | elapsed:   38.5s\n",
      "[Parallel(n_jobs=-1)]: Done 1234 tasks      | elapsed:   56.0s\n",
      "[Parallel(n_jobs=-1)]: Done 1350 out of 1350 | elapsed:  1.0min finished\n",
      "C:\\Users\\RenataUjhaziova\\Anaconda3\\lib\\site-packages\\xgboost\\core.py:587: FutureWarning: Series.base is deprecated and will be removed in a future version\n",
      "  if getattr(data, 'base', None) is not None and \\\n"
     ]
    },
    {
     "name": "stdout",
     "output_type": "stream",
     "text": [
      "[21:58:11] WARNING: C:/Jenkins/workspace/xgboost-win64_release_0.90/src/objective/regression_obj.cu:152: reg:linear is now deprecated in favor of reg:squarederror.\n",
      "Best Score:  0.9045061844806134\n",
      "Best Params:  {'colsample_bytree': 1.0, 'gamma': 0.3, 'max_depth': 4, 'min_child_weight': 4, 'subsample': 1.0}\n",
      "RMSE:  25661.0\n",
      "STD:  25525.777\n",
      "Mean absolute error = 15223.8\n",
      "Mean squared error = 658480047.91\n",
      "Median absolute error = 8330.6\n",
      "Explain variance score = 0.9\n",
      "R2 score = 0.9\n"
     ]
    }
   ],
   "source": [
    "train_model_xg(X = df_uk.drop(columns=['y','dates']),y = df_uk['y'])"
   ]
  },
  {
   "cell_type": "markdown",
   "metadata": {},
   "source": [
    "### 2.3 Ridge regression"
   ]
  },
  {
   "cell_type": "code",
   "execution_count": 15,
   "metadata": {},
   "outputs": [],
   "source": [
    "def train_model_rg(X,y):    \n",
    "    ## Perform a train-test split\n",
    "    X_train, X_test, y_train, y_test = train_test_split(X, y, test_size=0.25,\n",
    "                                                        shuffle=True, random_state=42)\n",
    "    \n",
    "    # Train model with default alpha=1\n",
    "    ridge = Ridge(alpha=1).fit(X_train, y_train)\n",
    "    \n",
    "    # find optimal alpha with grid search\n",
    "    alpha = [0.001, 0.01, 0.1, 1, 10, 100, 1000]\n",
    "    param_grid = dict(alpha=alpha)\n",
    "    \n",
    "    grid = GridSearchCV(estimator=ridge, param_grid=param_grid, scoring='r2', verbose=0, n_jobs=-1)\n",
    "    grid.fit(X_train, y_train)\n",
    "    y_pred = grid.predict(X_test)\n",
    "    print('Best Score: ', grid.best_score_)\n",
    "    print('Best Params: ', grid.best_params_)\n",
    "    \n",
    "    # print model evaluation results\n",
    "    eval_rmse =  round(np.sqrt(mean_squared_error(y_test,y_pred)))\n",
    "    print('RMSE: ' , eval_rmse)\n",
    "    print('STD: ' , round(np.std(y_pred-y_test),3))    \n",
    "    print(\"Mean absolute error =\", round(sm.mean_absolute_error(y_test, y_pred), 2)) \n",
    "    print(\"Mean squared error =\", round(sm.mean_squared_error(y_test, y_pred), 2)) \n",
    "    print(\"Median absolute error =\", round(sm.median_absolute_error(y_test, y_pred), 2)) \n",
    "    print(\"Explain variance score =\", round(sm.explained_variance_score(y_test, y_pred), 2)) \n",
    "    print(\"R2 score =\", round(sm.r2_score(y_test, y_pred), 2))\n",
    "  \n",
    "    ## retrain using all data\n",
    "    # grid.fit(X, y)"
   ]
  },
  {
   "cell_type": "code",
   "execution_count": 16,
   "metadata": {},
   "outputs": [
    {
     "name": "stderr",
     "output_type": "stream",
     "text": [
      "C:\\Users\\RenataUjhaziova\\Anaconda3\\lib\\site-packages\\sklearn\\model_selection\\_split.py:1978: FutureWarning: The default value of cv will change from 3 to 5 in version 0.22. Specify it explicitly to silence this warning.\n",
      "  warnings.warn(CV_WARNING, FutureWarning)\n"
     ]
    },
    {
     "name": "stdout",
     "output_type": "stream",
     "text": [
      "Best Score:  0.4735363113785238\n",
      "Best Params:  {'alpha': 1000}\n",
      "RMSE:  55538.0\n",
      "STD:  55241.166\n",
      "Mean absolute error = 43429.12\n",
      "Mean squared error = 3084429543.12\n",
      "Median absolute error = 35867.06\n",
      "Explain variance score = 0.53\n",
      "R2 score = 0.53\n"
     ]
    }
   ],
   "source": [
    "train_model_rg(X = df_all.drop(columns=['y','dates']),y = df_all['y'])"
   ]
  },
  {
   "cell_type": "code",
   "execution_count": 17,
   "metadata": {},
   "outputs": [
    {
     "name": "stderr",
     "output_type": "stream",
     "text": [
      "C:\\Users\\RenataUjhaziova\\Anaconda3\\lib\\site-packages\\sklearn\\model_selection\\_split.py:1978: FutureWarning: The default value of cv will change from 3 to 5 in version 0.22. Specify it explicitly to silence this warning.\n",
      "  warnings.warn(CV_WARNING, FutureWarning)\n"
     ]
    },
    {
     "name": "stdout",
     "output_type": "stream",
     "text": [
      "Best Score:  0.4833997420774578\n",
      "Best Params:  {'alpha': 1000}\n",
      "RMSE:  52964.0\n",
      "STD:  52686.379\n",
      "Mean absolute error = 39938.64\n",
      "Mean squared error = 2805155136.64\n",
      "Median absolute error = 33534.17\n",
      "Explain variance score = 0.56\n",
      "R2 score = 0.56\n"
     ]
    }
   ],
   "source": [
    "train_model_rg(X = df_uk.drop(columns=['y','dates']),y = df_uk['y'])"
   ]
  },
  {
   "cell_type": "markdown",
   "metadata": {},
   "source": [
    "### 2.4 Lasso regression"
   ]
  },
  {
   "cell_type": "code",
   "execution_count": 18,
   "metadata": {},
   "outputs": [],
   "source": [
    "def train_model_lr(X,y):    \n",
    "    ## Perform a train-test split\n",
    "    X_train, X_test, y_train, y_test = train_test_split(X, y, test_size=0.25,\n",
    "                                                        shuffle=True, random_state=42)\n",
    "    \n",
    "    lasso = Lasso(alpha=1).fit(X_train, y_train)\n",
    "    \n",
    "    # find optimal alpha with grid search\n",
    "    alpha = [0.001, 0.01, 0.1, 1, 10, 100, 1000]\n",
    "    param_grid = dict(alpha=alpha)\n",
    "    \n",
    "    grid = GridSearchCV(estimator=lasso, param_grid=param_grid, scoring='r2', verbose=0, n_jobs=-1)\n",
    "    grid.fit(X_train, y_train)\n",
    "    y_pred = grid.predict(X_test)\n",
    "    print('Best Score: ', grid.best_score_)\n",
    "    print('Best Params: ', grid.best_params_)\n",
    "    \n",
    "    # print model evaluation results\n",
    "    eval_rmse =  round(np.sqrt(mean_squared_error(y_test,y_pred)))\n",
    "    print('RMSE: ' , eval_rmse)\n",
    "    print('STD: ' , round(np.std(y_pred-y_test),3))    \n",
    "    print(\"Mean absolute error =\", round(sm.mean_absolute_error(y_test, y_pred), 2)) \n",
    "    print(\"Mean squared error =\", round(sm.mean_squared_error(y_test, y_pred), 2)) \n",
    "    print(\"Median absolute error =\", round(sm.median_absolute_error(y_test, y_pred), 2)) \n",
    "    print(\"Explain variance score =\", round(sm.explained_variance_score(y_test, y_pred), 2)) \n",
    "    print(\"R2 score =\", round(sm.r2_score(y_test, y_pred), 2))\n",
    "  \n",
    "    ## retrain using all data\n",
    "    # grid.fit(X, y)"
   ]
  },
  {
   "cell_type": "code",
   "execution_count": 19,
   "metadata": {},
   "outputs": [
    {
     "name": "stderr",
     "output_type": "stream",
     "text": [
      "C:\\Users\\RenataUjhaziova\\Anaconda3\\lib\\site-packages\\sklearn\\model_selection\\_split.py:1978: FutureWarning: The default value of cv will change from 3 to 5 in version 0.22. Specify it explicitly to silence this warning.\n",
      "  warnings.warn(CV_WARNING, FutureWarning)\n"
     ]
    },
    {
     "name": "stdout",
     "output_type": "stream",
     "text": [
      "Best Score:  0.47320071163151195\n",
      "Best Params:  {'alpha': 1000}\n",
      "RMSE:  55552.0\n",
      "STD:  55251.359\n",
      "Mean absolute error = 43445.48\n",
      "Mean squared error = 3086017336.66\n",
      "Median absolute error = 36072.84\n",
      "Explain variance score = 0.53\n",
      "R2 score = 0.53\n"
     ]
    }
   ],
   "source": [
    "train_model_lr(X = df_all.drop(columns=['y','dates']),y = df_all['y'])"
   ]
  },
  {
   "cell_type": "code",
   "execution_count": 20,
   "metadata": {},
   "outputs": [
    {
     "name": "stderr",
     "output_type": "stream",
     "text": [
      "C:\\Users\\RenataUjhaziova\\Anaconda3\\lib\\site-packages\\sklearn\\model_selection\\_split.py:1978: FutureWarning: The default value of cv will change from 3 to 5 in version 0.22. Specify it explicitly to silence this warning.\n",
      "  warnings.warn(CV_WARNING, FutureWarning)\n"
     ]
    },
    {
     "name": "stdout",
     "output_type": "stream",
     "text": [
      "Best Score:  0.48308657754517703\n",
      "Best Params:  {'alpha': 1000}\n",
      "RMSE:  52969.0\n",
      "STD:  52690.106\n",
      "Mean absolute error = 39944.67\n",
      "Mean squared error = 2805745907.68\n",
      "Median absolute error = 33485.26\n",
      "Explain variance score = 0.56\n",
      "R2 score = 0.56\n"
     ]
    }
   ],
   "source": [
    "train_model_lr(X = df_uk.drop(columns=['y','dates']),y = df_uk['y'])"
   ]
  },
  {
   "cell_type": "markdown",
   "metadata": {},
   "source": [
    "#### Conclusion:\n",
    " The best model is Random forrest regressor. "
   ]
  },
  {
   "cell_type": "markdown",
   "metadata": {},
   "source": [
    "## 3. Plot learning curve"
   ]
  },
  {
   "cell_type": "code",
   "execution_count": 21,
   "metadata": {},
   "outputs": [],
   "source": [
    "def plot_learning_curve(estimator, X, y,ax=None, save_as=None, cv=5):\n",
    "    \"\"\"\n",
    "    an sklearn estimator \n",
    "    \"\"\"\n",
    "\n",
    "    if not ax:\n",
    "        fig = plt.figure()\n",
    "        ax = fig.add_subplot(111)\n",
    "\n",
    "    cv = ShuffleSplit(n_splits=5, test_size=0.25, random_state=0)\n",
    "    train_sizes=np.linspace(.1, 1.0, 6)\n",
    "    train_sizes, train_scores, test_scores = learning_curve(estimator, X, y,\n",
    "                                                            cv=cv, n_jobs=-1,\n",
    "                                                            train_sizes=train_sizes)\n",
    "    train_scores_mean = np.mean(train_scores, axis=1)\n",
    "    train_scores_std = np.std(train_scores, axis=1)\n",
    "    test_scores_mean = np.mean(test_scores, axis=1)\n",
    "    test_scores_std = np.std(test_scores, axis=1)\n",
    "\n",
    "    ax.fill_between(train_sizes, train_scores_mean - train_scores_std,\n",
    "                     train_scores_mean + train_scores_std, alpha=0.1,\n",
    "                     color=\"r\")\n",
    "    ax.fill_between(train_sizes, test_scores_mean - test_scores_std,\n",
    "                     test_scores_mean + test_scores_std, alpha=0.1, color=\"g\")\n",
    "    ax.plot(train_sizes, train_scores_mean, 'o-', color=\"r\",\n",
    "             label=\"Training score\")\n",
    "    ax.plot(train_sizes, test_scores_mean, 'o-', color=\"g\",\n",
    "             label=\"Cross-validation score\")\n",
    "\n",
    "    ## axes and lables\n",
    "    buff = 0.05\n",
    "    xmin,xmax = ax.get_xlim()\n",
    "    ymin,ymax = ax.get_ylim()\n",
    "    xbuff = buff * (xmax - xmin)\n",
    "    ybuff = buff * (ymax - ymin)\n",
    "    ax.set_xlim(xmin-xbuff,xmax+xbuff)\n",
    "    ax.set_ylim(ymin-ybuff,ymax+ybuff)\n",
    "    ax.set_xlabel(\"Training examples\")\n",
    "    ax.set_ylabel(\"Score\")\n",
    "    \n",
    "    ax.legend(loc=\"best\")"
   ]
  },
  {
   "cell_type": "markdown",
   "metadata": {},
   "source": [
    "### 3.1 Plot learning curve for dataset from all countries"
   ]
  },
  {
   "cell_type": "code",
   "execution_count": 22,
   "metadata": {},
   "outputs": [
    {
     "data": {
      "image/png": "[encoded data removed]",
      "text/plain": [
       "<Figure size 720x360 with 2 Axes>"
      ]
     },
     "metadata": {
      "needs_background": "light"
     },
     "output_type": "display_data"
    }
   ],
   "source": [
    "fig = plt.figure(figsize=(10,5))\n",
    "ax1 = fig.add_subplot(121)\n",
    "ax2 = fig.add_subplot(122)\n",
    "\n",
    "#title = \"Learning Curves (Random Forest)\"\n",
    "# Cross validation with 100 iterations to get smoother mean test and train\n",
    "# score curves, each time with 20% data randomly selected as a validation set.\n",
    "cv = ShuffleSplit(n_splits=100, test_size=0.25, random_state=0)\n",
    "\n",
    "estimator = RandomForestRegressor(criterion= 'mae', n_estimators=20)\n",
    "plot_learning_curve(estimator, \n",
    "                    X = df_all.drop(columns=['y','dates']),y = df_all['y'],\n",
    "                    ax=ax1,cv=5)\n",
    "#title = \"Learning Curves (XGBoost)\"\n",
    "# SVC is more expensive so we do a lower number of CV iterations:\n",
    "cv = ShuffleSplit(n_splits=10, test_size=0.25, random_state=0)\n",
    "estimator = XGBRegressor(colsample_bytree= 0.6, \n",
    "                          gamma= 0.3, \n",
    "                          max_depth= 4, \n",
    "                          min_child_weight= 4, \n",
    "                          subsample= 0.8)\n",
    "plot_learning_curve(estimator, X = df_all.drop(columns=['y','dates']),y = df_all['y'],\n",
    "                    ax=ax2,cv=5)\n",
    "\n",
    "ax1.set_title(\"Learning Curves: Random Forest\")\n",
    "ax2.set_title(\"Learning Curves: XGBoost\")\n",
    "\n",
    "for ax in [ax1,ax2]:\n",
    "        ax.set_ylim((0.6,1.2))\n",
    "    \n",
    "plt.show()"
   ]
  },
  {
   "cell_type": "code",
   "execution_count": 23,
   "metadata": {},
   "outputs": [
    {
     "data": {
      "image/png": "[encoded data removed]",
      "text/plain": [
       "<Figure size 720x360 with 2 Axes>"
      ]
     },
     "metadata": {
      "needs_background": "light"
     },
     "output_type": "display_data"
    }
   ],
   "source": [
    "fig = plt.figure(figsize=(10,5))\n",
    "ax1 = fig.add_subplot(121)\n",
    "ax2 = fig.add_subplot(122)\n",
    "\n",
    "#title = \"Learning Curves (Random Forest)\"\n",
    "# Cross validation with 100 iterations to get smoother mean test and train\n",
    "# score curves, each time with 20% data randomly selected as a validation set.\n",
    "cv = ShuffleSplit(n_splits=100, test_size=0.25, random_state=0)\n",
    "\n",
    "estimator = Ridge(alpha=1000)\n",
    "plot_learning_curve(estimator, \n",
    "                    X = df_all.drop(columns=['y','dates']),y = df_all['y'],\n",
    "                    ax=ax1,cv=5)\n",
    "\n",
    "cv = ShuffleSplit(n_splits=10, test_size=0.25, random_state=0)\n",
    "estimator = Lasso(alpha=1000)\n",
    "plot_learning_curve(estimator, X = df_all.drop(columns=['y','dates']),y = df_all['y'],\n",
    "                    ax=ax2,cv=5)\n",
    "\n",
    "ax1.set_title(\"Learning Curves: Ridge Regression\")\n",
    "ax2.set_title(\"Learning Curves: Lasso Rigression\")\n",
    "\n",
    "for ax in [ax1,ax2]:\n",
    "        ax.set_ylim((0.2,1.0))\n",
    "    \n",
    "plt.show()"
   ]
  },
  {
   "cell_type": "markdown",
   "metadata": {},
   "source": [
    "### 3.2 Plot learning curve for United Kingdom "
   ]
  },
  {
   "cell_type": "code",
   "execution_count": 24,
   "metadata": {},
   "outputs": [
    {
     "data": {
      "image/png": "[encoded data removed]",
      "text/plain": [
       "<Figure size 720x360 with 2 Axes>"
      ]
     },
     "metadata": {
      "needs_background": "light"
     },
     "output_type": "display_data"
    }
   ],
   "source": [
    "fig = plt.figure(figsize=(10,5))\n",
    "ax1 = fig.add_subplot(121)\n",
    "ax2 = fig.add_subplot(122)\n",
    "\n",
    "#title = \"Learning Curves (Random Forest)\"\n",
    "# Cross validation with 100 iterations to get smoother mean test and train\n",
    "# score curves, each time with 20% data randomly selected as a validation set.\n",
    "cv = ShuffleSplit(n_splits=100, test_size=0.25, random_state=0)\n",
    "\n",
    "estimator = RandomForestRegressor(criterion= 'mse', n_estimators=20)\n",
    "plot_learning_curve(estimator, \n",
    "                    X = df_uk.drop(columns=['y','dates']),y = df_uk['y'],\n",
    "                    ax=ax1,cv=5)\n",
    "#title = \"Learning Curves (XGBoost)\"\n",
    "# SVC is more expensive so we do a lower number of CV iterations:\n",
    "cv = ShuffleSplit(n_splits=10, test_size=0.25, random_state=0)\n",
    "estimator = XGBRegressor(colsample_bytree= 1.0, \n",
    "                          gamma= 0.3, \n",
    "                          max_depth= 4, \n",
    "                          min_child_weight= 4, \n",
    "                          subsample= 1.0)\n",
    "plot_learning_curve(estimator, \n",
    "                    X = df_uk.drop(columns=['y','dates']),y = df_uk['y'],\n",
    "                    ax=ax2,cv=5)\n",
    "\n",
    "ax1.set_title(\"Learning Curves: Random Forest\")\n",
    "ax2.set_title(\"Learning Curves: XGBoost\")\n",
    "\n",
    "for ax in [ax1,ax2]:\n",
    "        ax.set_ylim((0.6,1.2))\n",
    "    \n",
    "plt.show()"
   ]
  },
  {
   "cell_type": "code",
   "execution_count": 25,
   "metadata": {},
   "outputs": [
    {
     "data": {
      "image/png": "[encoded data removed]",
      "text/plain": [
       "<Figure size 720x360 with 2 Axes>"
      ]
     },
     "metadata": {
      "needs_background": "light"
     },
     "output_type": "display_data"
    }
   ],
   "source": [
    "fig = plt.figure(figsize=(10,5))\n",
    "ax1 = fig.add_subplot(121)\n",
    "ax2 = fig.add_subplot(122)\n",
    "\n",
    "#title = \"Learning Curves (Random Forest)\"\n",
    "# Cross validation with 100 iterations to get smoother mean test and train\n",
    "# score curves, each time with 20% data randomly selected as a validation set.\n",
    "cv = ShuffleSplit(n_splits=100, test_size=0.25, random_state=0)\n",
    "\n",
    "estimator = Ridge(alpha=1000)\n",
    "plot_learning_curve(estimator, \n",
    "                    X = df_uk.drop(columns=['y','dates']),y = df_uk['y'],\n",
    "                    ax=ax1,cv=5)\n",
    "\n",
    "cv = ShuffleSplit(n_splits=10, test_size=0.25, random_state=0)\n",
    "estimator = Lasso(alpha=1000)\n",
    "plot_learning_curve(estimator, \n",
    "                    X = df_uk.drop(columns=['y','dates']),y = df_uk['y'],\n",
    "                    ax=ax2,cv=5)\n",
    "\n",
    "ax1.set_title(\"Learning Curves: Ridge Regression\")\n",
    "ax2.set_title(\"Learning Curves: Lasso Rigression\")\n",
    "\n",
    "for ax in [ax1,ax2]:\n",
    "        ax.set_ylim((0.2,1.0))\n",
    "    \n",
    "plt.show()"
   ]
  },
  {
   "cell_type": "markdown",
   "metadata": {},
   "source": [
    "## 4. Re-train your model on all of the data using the selected approach & prepare it for deployment"
   ]
  },
  {
   "cell_type": "markdown",
   "metadata": {},
   "source": [
    "### 3.1 Train model on selected data using the selected approach"
   ]
  },
  {
   "cell_type": "code",
   "execution_count": 26,
   "metadata": {},
   "outputs": [
    {
     "name": "stdout",
     "output_type": "stream",
     "text": [
      "... test flag on\n",
      "...... subseting data\n",
      "...... subseting countries\n",
      "... loading ts data from files\n",
      "... saving test version of model: ../models\\test-all-0_1.joblib\n",
      "... saving test version of model: ../models\\test-united_kingdom-0_1.joblib\n"
     ]
    }
   ],
   "source": [
    "model_train(data_dir_train,test=True)"
   ]
  },
  {
   "cell_type": "markdown",
   "metadata": {},
   "source": [
    "### 3.2 Re-train model on all of the data using the selected approach and prepare it for deployment"
   ]
  },
  {
   "cell_type": "code",
   "execution_count": 27,
   "metadata": {},
   "outputs": [
    {
     "name": "stdout",
     "output_type": "stream",
     "text": [
      "... loading ts data from files\n",
      "... saving model: ../models\\sl-all-0_1.joblib\n",
      "... saving model: ../models\\sl-eire-0_1.joblib\n",
      "... saving model: ../models\\sl-france-0_1.joblib\n",
      "... saving model: ../models\\sl-germany-0_1.joblib\n",
      "... saving model: ../models\\sl-hong_kong-0_1.joblib\n",
      "... saving model: ../models\\sl-netherlands-0_1.joblib\n",
      "... saving model: ../models\\sl-norway-0_1.joblib\n",
      "... saving model: ../models\\sl-portugal-0_1.joblib\n",
      "... saving model: ../models\\sl-singapore-0_1.joblib\n",
      "... saving model: ../models\\sl-spain-0_1.joblib\n",
      "... saving model: ../models\\sl-united_kingdom-0_1.joblib\n"
     ]
    }
   ],
   "source": [
    "model_train(data_dir_train,test=False)"
   ]
  }
 ],
 "metadata": {
  "kernelspec": {
   "display_name": "Python 3",
   "language": "python",
   "name": "python3"
  },
  "language_info": {
   "codemirror_mode": {
    "name": "ipython",
    "version": 3
   },
   "file_extension": ".py",
   "mimetype": "text/x-python",
   "name": "python",
   "nbconvert_exporter": "python",
   "pygments_lexer": "ipython3",
   "version": "3.7.3"
  }
 },
 "nbformat": 4,
 "nbformat_minor": 4
}
